{
 "cells": [
  {
   "cell_type": "code",
   "execution_count": 1,
   "metadata": {},
   "outputs": [],
   "source": [
    "## Importing  all needed Library\n",
    "\n",
    "import pandas as pd\n",
    "import numpy as np\n",
    "import seaborn as sns \n",
    "import matplotlib.pyplot as plt\n",
    "import plotly as px"
   ]
  },
  {
   "cell_type": "code",
   "execution_count": 2,
   "metadata": {},
   "outputs": [],
   "source": [
    "## Importing data\n",
    "\n",
    "df = pd.read_csv(\"C:/Users/Ankit Pandey/OneDrive/Documents/Desktop/Loan_deafulter/zomato_dataset.csv\")"
   ]
  },
  {
   "cell_type": "code",
   "execution_count": 3,
   "metadata": {},
   "outputs": [
    {
     "data": {
      "text/html": [
       "<div>\n",
       "<style scoped>\n",
       "    .dataframe tbody tr th:only-of-type {\n",
       "        vertical-align: middle;\n",
       "    }\n",
       "\n",
       "    .dataframe tbody tr th {\n",
       "        vertical-align: top;\n",
       "    }\n",
       "\n",
       "    .dataframe thead th {\n",
       "        text-align: right;\n",
       "    }\n",
       "</style>\n",
       "<table border=\"1\" class=\"dataframe\">\n",
       "  <thead>\n",
       "    <tr style=\"text-align: right;\">\n",
       "      <th></th>\n",
       "      <th>Restaurant Name</th>\n",
       "      <th>Dining Rating</th>\n",
       "      <th>Delivery Rating</th>\n",
       "      <th>Dining Votes</th>\n",
       "      <th>Delivery Votes</th>\n",
       "      <th>Cuisine</th>\n",
       "      <th>Place Name</th>\n",
       "      <th>City</th>\n",
       "      <th>Item Name</th>\n",
       "      <th>Best Seller</th>\n",
       "      <th>Votes</th>\n",
       "      <th>Prices</th>\n",
       "    </tr>\n",
       "  </thead>\n",
       "  <tbody>\n",
       "    <tr>\n",
       "      <th>0</th>\n",
       "      <td>Doner King</td>\n",
       "      <td>3.9</td>\n",
       "      <td>4.2</td>\n",
       "      <td>39</td>\n",
       "      <td>0</td>\n",
       "      <td>Fast Food</td>\n",
       "      <td>Malakpet</td>\n",
       "      <td>Hyderabad</td>\n",
       "      <td>Platter Kebab Combo</td>\n",
       "      <td>BESTSELLER</td>\n",
       "      <td>84</td>\n",
       "      <td>249.0</td>\n",
       "    </tr>\n",
       "    <tr>\n",
       "      <th>1</th>\n",
       "      <td>Doner King</td>\n",
       "      <td>3.9</td>\n",
       "      <td>4.2</td>\n",
       "      <td>39</td>\n",
       "      <td>0</td>\n",
       "      <td>Fast Food</td>\n",
       "      <td>Malakpet</td>\n",
       "      <td>Hyderabad</td>\n",
       "      <td>Chicken Rumali Shawarma</td>\n",
       "      <td>BESTSELLER</td>\n",
       "      <td>45</td>\n",
       "      <td>129.0</td>\n",
       "    </tr>\n",
       "    <tr>\n",
       "      <th>2</th>\n",
       "      <td>Doner King</td>\n",
       "      <td>3.9</td>\n",
       "      <td>4.2</td>\n",
       "      <td>39</td>\n",
       "      <td>0</td>\n",
       "      <td>Fast Food</td>\n",
       "      <td>Malakpet</td>\n",
       "      <td>Hyderabad</td>\n",
       "      <td>Chicken Tandoori Salad</td>\n",
       "      <td>NaN</td>\n",
       "      <td>39</td>\n",
       "      <td>189.0</td>\n",
       "    </tr>\n",
       "    <tr>\n",
       "      <th>3</th>\n",
       "      <td>Doner King</td>\n",
       "      <td>3.9</td>\n",
       "      <td>4.2</td>\n",
       "      <td>39</td>\n",
       "      <td>0</td>\n",
       "      <td>Fast Food</td>\n",
       "      <td>Malakpet</td>\n",
       "      <td>Hyderabad</td>\n",
       "      <td>Chicken BBQ Salad</td>\n",
       "      <td>BESTSELLER</td>\n",
       "      <td>43</td>\n",
       "      <td>189.0</td>\n",
       "    </tr>\n",
       "    <tr>\n",
       "      <th>4</th>\n",
       "      <td>Doner King</td>\n",
       "      <td>3.9</td>\n",
       "      <td>4.2</td>\n",
       "      <td>39</td>\n",
       "      <td>0</td>\n",
       "      <td>Fast Food</td>\n",
       "      <td>Malakpet</td>\n",
       "      <td>Hyderabad</td>\n",
       "      <td>Special Doner Wrap Combo</td>\n",
       "      <td>MUST TRY</td>\n",
       "      <td>31</td>\n",
       "      <td>205.0</td>\n",
       "    </tr>\n",
       "  </tbody>\n",
       "</table>\n",
       "</div>"
      ],
      "text/plain": [
       "  Restaurant Name  Dining Rating  Delivery Rating  Dining Votes  \\\n",
       "0      Doner King            3.9              4.2            39   \n",
       "1      Doner King            3.9              4.2            39   \n",
       "2      Doner King            3.9              4.2            39   \n",
       "3      Doner King            3.9              4.2            39   \n",
       "4      Doner King            3.9              4.2            39   \n",
       "\n",
       "   Delivery Votes   Cuisine  Place Name        City                 Item Name  \\\n",
       "0               0  Fast Food   Malakpet   Hyderabad       Platter Kebab Combo   \n",
       "1               0  Fast Food   Malakpet   Hyderabad   Chicken Rumali Shawarma   \n",
       "2               0  Fast Food   Malakpet   Hyderabad    Chicken Tandoori Salad   \n",
       "3               0  Fast Food   Malakpet   Hyderabad         Chicken BBQ Salad   \n",
       "4               0  Fast Food   Malakpet   Hyderabad  Special Doner Wrap Combo   \n",
       "\n",
       "  Best Seller  Votes  Prices  \n",
       "0  BESTSELLER     84   249.0  \n",
       "1  BESTSELLER     45   129.0  \n",
       "2         NaN     39   189.0  \n",
       "3  BESTSELLER     43   189.0  \n",
       "4    MUST TRY     31   205.0  "
      ]
     },
     "execution_count": 3,
     "metadata": {},
     "output_type": "execute_result"
    }
   ],
   "source": [
    "df.head()"
   ]
  },
  {
   "cell_type": "code",
   "execution_count": 4,
   "metadata": {},
   "outputs": [
    {
     "data": {
      "text/plain": [
       "Restaurant Name        0\n",
       "Dining Rating      32236\n",
       "Delivery Rating     1280\n",
       "Dining Votes           0\n",
       "Delivery Votes         0\n",
       "Cuisine                0\n",
       "Place Name             0\n",
       "City                   0\n",
       "Item Name              0\n",
       "Best Seller        95715\n",
       "Votes                  0\n",
       "Prices                 0\n",
       "dtype: int64"
      ]
     },
     "execution_count": 4,
     "metadata": {},
     "output_type": "execute_result"
    }
   ],
   "source": [
    "## Checking null values from the dataset\n",
    "\n",
    "df.isnull().sum()"
   ]
  },
  {
   "cell_type": "code",
   "execution_count": 5,
   "metadata": {},
   "outputs": [
    {
     "name": "stdout",
     "output_type": "stream",
     "text": [
      "[3.9 4.3 3.6 4.2 4.4 4.1 4.  nan 3.4 3.2 3.8 3.1 2.7 3.7 3.5 3.  2.9 3.3\n",
      " 4.6 4.5 2.8 4.7 2.5 2.6 4.8]\n",
      "[4.2 3.7 4.  3.9 4.1 3.5 4.3 3.8 3.3 nan 4.5 3.6 4.6 3.2 4.4 3.4 3.1 3.\n",
      " 2.5]\n"
     ]
    }
   ],
   "source": [
    "print(df['Dining Rating'].unique())\n",
    "print(df['Delivery Rating'].unique())"
   ]
  },
  {
   "cell_type": "code",
   "execution_count": 6,
   "metadata": {},
   "outputs": [],
   "source": [
    "df['Dining Rating'] = df['Dining Rating'].fillna(0)\n",
    "df['Delivery Rating'] = df['Delivery Rating'].fillna(0)"
   ]
  },
  {
   "cell_type": "code",
   "execution_count": 7,
   "metadata": {},
   "outputs": [
    {
     "name": "stdout",
     "output_type": "stream",
     "text": [
      "<class 'pandas.core.frame.DataFrame'>\n",
      "RangeIndex: 123657 entries, 0 to 123656\n",
      "Data columns (total 12 columns):\n",
      " #   Column           Non-Null Count   Dtype  \n",
      "---  ------           --------------   -----  \n",
      " 0   Restaurant Name  123657 non-null  object \n",
      " 1   Dining Rating    123657 non-null  float64\n",
      " 2   Delivery Rating  123657 non-null  float64\n",
      " 3   Dining Votes     123657 non-null  int64  \n",
      " 4   Delivery Votes   123657 non-null  int64  \n",
      " 5   Cuisine          123657 non-null  object \n",
      " 6   Place Name       123657 non-null  object \n",
      " 7   City             123657 non-null  object \n",
      " 8   Item Name        123657 non-null  object \n",
      " 9   Best Seller      27942 non-null   object \n",
      " 10  Votes            123657 non-null  int64  \n",
      " 11  Prices           123657 non-null  float64\n",
      "dtypes: float64(3), int64(3), object(6)\n",
      "memory usage: 11.3+ MB\n"
     ]
    }
   ],
   "source": [
    "df.info()"
   ]
  },
  {
   "cell_type": "markdown",
   "metadata": {},
   "source": [
    "1) What is the average dining rating across all restaurants in the dataset"
   ]
  },
  {
   "cell_type": "code",
   "execution_count": 8,
   "metadata": {},
   "outputs": [
    {
     "data": {
      "text/plain": [
       "(array([32236.,     0.,     0.,     0.,     0.,     0.,     0.,     0.,\n",
       "            0.,     0.,   418.,  1446.,  5068.,  6623.,  7796., 22140.,\n",
       "        18709., 24078.,  3427.,  1716.]),\n",
       " array([0.  , 0.24, 0.48, 0.72, 0.96, 1.2 , 1.44, 1.68, 1.92, 2.16, 2.4 ,\n",
       "        2.64, 2.88, 3.12, 3.36, 3.6 , 3.84, 4.08, 4.32, 4.56, 4.8 ]),\n",
       " <BarContainer object of 20 artists>)"
      ]
     },
     "execution_count": 8,
     "metadata": {},
     "output_type": "execute_result"
    },
    {
     "data": {
      "image/png": "[encoded data removed]",
      "text/plain": [
       "<Figure size 640x480 with 1 Axes>"
      ]
     },
     "metadata": {},
     "output_type": "display_data"
    }
   ],
   "source": [
    "plt.hist(df['Dining Rating'],bins=20)"
   ]
  },
  {
   "cell_type": "markdown",
   "metadata": {},
   "source": [
    "Data is right skewed and most of dining rating is between 3.5 to 4.5"
   ]
  },
  {
   "cell_type": "code",
   "execution_count": 9,
   "metadata": {},
   "outputs": [
    {
     "data": {
      "text/plain": [
       "2.83"
      ]
     },
     "execution_count": 9,
     "metadata": {},
     "output_type": "execute_result"
    }
   ],
   "source": [
    "df['Dining Rating'].mean().round(2)"
   ]
  },
  {
   "cell_type": "markdown",
   "metadata": {},
   "source": [
    "2) Which metropolitan area has the highest average delivery rating"
   ]
  },
  {
   "cell_type": "code",
   "execution_count": 10,
   "metadata": {},
   "outputs": [
    {
     "data": {
      "text/plain": [
       "3.9221604923295894"
      ]
     },
     "execution_count": 10,
     "metadata": {},
     "output_type": "execute_result"
    }
   ],
   "source": [
    "df['Delivery Rating'].mean()"
   ]
  },
  {
   "cell_type": "code",
   "execution_count": 11,
   "metadata": {},
   "outputs": [
    {
     "data": {
      "text/plain": [
       "Index(['Restaurant Name', 'Dining Rating', 'Delivery Rating', 'Dining Votes',\n",
       "       'Delivery Votes', 'Cuisine ', 'Place Name', 'City', 'Item Name',\n",
       "       'Best Seller', 'Votes', 'Prices'],\n",
       "      dtype='object')"
      ]
     },
     "execution_count": 11,
     "metadata": {},
     "output_type": "execute_result"
    }
   ],
   "source": [
    "df.columns"
   ]
  },
  {
   "cell_type": "code",
   "execution_count": 12,
   "metadata": {},
   "outputs": [],
   "source": [
    "city_avg_delivery = df.groupby('City')['Delivery Rating'].mean().sort_values(ascending= False).head(5)"
   ]
  },
  {
   "cell_type": "code",
   "execution_count": 13,
   "metadata": {},
   "outputs": [
    {
     "name": "stdout",
     "output_type": "stream",
     "text": [
      "City\n",
      "Pune            4.006161\n",
      "Ulsoor          4.000000\n",
      "Malleshwaram    4.000000\n",
      "Hyderabad       3.983296\n",
      "Jaipur          3.979055\n",
      "Name: Delivery Rating, dtype: float64\n"
     ]
    }
   ],
   "source": [
    "print(city_avg_delivery)"
   ]
  },
  {
   "cell_type": "code",
   "execution_count": 14,
   "metadata": {},
   "outputs": [],
   "source": [
    "Place_name_avg_delivery = df.groupby('Place Name')['Delivery Rating'].mean().sort_values(ascending= False).head(5)"
   ]
  },
  {
   "cell_type": "code",
   "execution_count": 15,
   "metadata": {},
   "outputs": [
    {
     "name": "stdout",
     "output_type": "stream",
     "text": [
      "Place Name\n",
      "Fort Kochi        4.6\n",
      "Shobha Bazar      4.5\n",
      "JM Road           4.5\n",
      "Govind Nagar      4.4\n",
      "College Street    4.4\n",
      "Name: Delivery Rating, dtype: float64\n"
     ]
    }
   ],
   "source": [
    "print(Place_name_avg_delivery)"
   ]
  },
  {
   "cell_type": "markdown",
   "metadata": {},
   "source": [
    "3) What is the total number of dining votes received by all restaurants in each city"
   ]
  },
  {
   "cell_type": "code",
   "execution_count": 16,
   "metadata": {},
   "outputs": [
    {
     "data": {
      "text/plain": [
       "Index(['Restaurant Name', 'Dining Rating', 'Delivery Rating', 'Dining Votes',\n",
       "       'Delivery Votes', 'Cuisine ', 'Place Name', 'City', 'Item Name',\n",
       "       'Best Seller', 'Votes', 'Prices'],\n",
       "      dtype='object')"
      ]
     },
     "execution_count": 16,
     "metadata": {},
     "output_type": "execute_result"
    }
   ],
   "source": [
    "df.columns"
   ]
  },
  {
   "cell_type": "code",
   "execution_count": 17,
   "metadata": {},
   "outputs": [],
   "source": [
    "total_dinning_votes = df.groupby('City')['Dining Votes'].sum().sort_values(ascending= False).reset_index()"
   ]
  },
  {
   "cell_type": "code",
   "execution_count": 18,
   "metadata": {},
   "outputs": [
    {
     "name": "stdout",
     "output_type": "stream",
     "text": [
      "             City  Dining Votes\n",
      "0          Jaipur       3049158\n",
      "1         Chennai       2608970\n",
      "2       Hyderabad       2064518\n",
      "3          Mumbai       1863212\n",
      "4         Kolkata       1759401\n",
      "5         Lucknow       1471925\n",
      "6       Ahmedabad       1456320\n",
      "7       Bangalore       1422983\n",
      "8           Kochi       1202972\n",
      "9            Pune        700977\n",
      "10      New Delhi        687767\n",
      "11         Raipur        513906\n",
      "12            Goa         47370\n",
      "13   Malleshwaram         32078\n",
      "14      Banaswadi          4559\n",
      "15   Magrath Road             0\n",
      "16         Ulsoor             0\n"
     ]
    }
   ],
   "source": [
    "print(total_dinning_votes)"
   ]
  },
  {
   "cell_type": "code",
   "execution_count": 19,
   "metadata": {},
   "outputs": [
    {
     "data": {
      "image/png": "[encoded data removed]",
      "text/plain": [
       "<Figure size 1500x500 with 1 Axes>"
      ]
     },
     "metadata": {},
     "output_type": "display_data"
    }
   ],
   "source": [
    "# Plotting the bar plot\n",
    "plt.figure(figsize=(15,5))\n",
    "sns.barplot(total_dinning_votes,x='City',y='Dining Votes')\n",
    "plt.title('Total Dining Votes by City')\n",
    "plt.xlabel('City')\n",
    "plt.ylabel('Total Dining Votes')\n",
    "plt.xticks(rotation=45)\n",
    "plt.show()"
   ]
  },
  {
   "cell_type": "markdown",
   "metadata": {},
   "source": [
    "4) How many unique cuisines are represented in the dataset"
   ]
  },
  {
   "cell_type": "code",
   "execution_count": 20,
   "metadata": {},
   "outputs": [
    {
     "data": {
      "text/html": [
       "<div>\n",
       "<style scoped>\n",
       "    .dataframe tbody tr th:only-of-type {\n",
       "        vertical-align: middle;\n",
       "    }\n",
       "\n",
       "    .dataframe tbody tr th {\n",
       "        vertical-align: top;\n",
       "    }\n",
       "\n",
       "    .dataframe thead th {\n",
       "        text-align: right;\n",
       "    }\n",
       "</style>\n",
       "<table border=\"1\" class=\"dataframe\">\n",
       "  <thead>\n",
       "    <tr style=\"text-align: right;\">\n",
       "      <th></th>\n",
       "      <th>Restaurant Name</th>\n",
       "      <th>Dining Rating</th>\n",
       "      <th>Delivery Rating</th>\n",
       "      <th>Dining Votes</th>\n",
       "      <th>Delivery Votes</th>\n",
       "      <th>Cuisine</th>\n",
       "      <th>Place Name</th>\n",
       "      <th>City</th>\n",
       "      <th>Item Name</th>\n",
       "      <th>Best Seller</th>\n",
       "      <th>Votes</th>\n",
       "      <th>Prices</th>\n",
       "    </tr>\n",
       "  </thead>\n",
       "  <tbody>\n",
       "    <tr>\n",
       "      <th>0</th>\n",
       "      <td>Doner King</td>\n",
       "      <td>3.9</td>\n",
       "      <td>4.2</td>\n",
       "      <td>39</td>\n",
       "      <td>0</td>\n",
       "      <td>Fast Food</td>\n",
       "      <td>Malakpet</td>\n",
       "      <td>Hyderabad</td>\n",
       "      <td>Platter Kebab Combo</td>\n",
       "      <td>BESTSELLER</td>\n",
       "      <td>84</td>\n",
       "      <td>249.0</td>\n",
       "    </tr>\n",
       "    <tr>\n",
       "      <th>1</th>\n",
       "      <td>Doner King</td>\n",
       "      <td>3.9</td>\n",
       "      <td>4.2</td>\n",
       "      <td>39</td>\n",
       "      <td>0</td>\n",
       "      <td>Fast Food</td>\n",
       "      <td>Malakpet</td>\n",
       "      <td>Hyderabad</td>\n",
       "      <td>Chicken Rumali Shawarma</td>\n",
       "      <td>BESTSELLER</td>\n",
       "      <td>45</td>\n",
       "      <td>129.0</td>\n",
       "    </tr>\n",
       "    <tr>\n",
       "      <th>2</th>\n",
       "      <td>Doner King</td>\n",
       "      <td>3.9</td>\n",
       "      <td>4.2</td>\n",
       "      <td>39</td>\n",
       "      <td>0</td>\n",
       "      <td>Fast Food</td>\n",
       "      <td>Malakpet</td>\n",
       "      <td>Hyderabad</td>\n",
       "      <td>Chicken Tandoori Salad</td>\n",
       "      <td>NaN</td>\n",
       "      <td>39</td>\n",
       "      <td>189.0</td>\n",
       "    </tr>\n",
       "    <tr>\n",
       "      <th>3</th>\n",
       "      <td>Doner King</td>\n",
       "      <td>3.9</td>\n",
       "      <td>4.2</td>\n",
       "      <td>39</td>\n",
       "      <td>0</td>\n",
       "      <td>Fast Food</td>\n",
       "      <td>Malakpet</td>\n",
       "      <td>Hyderabad</td>\n",
       "      <td>Chicken BBQ Salad</td>\n",
       "      <td>BESTSELLER</td>\n",
       "      <td>43</td>\n",
       "      <td>189.0</td>\n",
       "    </tr>\n",
       "    <tr>\n",
       "      <th>4</th>\n",
       "      <td>Doner King</td>\n",
       "      <td>3.9</td>\n",
       "      <td>4.2</td>\n",
       "      <td>39</td>\n",
       "      <td>0</td>\n",
       "      <td>Fast Food</td>\n",
       "      <td>Malakpet</td>\n",
       "      <td>Hyderabad</td>\n",
       "      <td>Special Doner Wrap Combo</td>\n",
       "      <td>MUST TRY</td>\n",
       "      <td>31</td>\n",
       "      <td>205.0</td>\n",
       "    </tr>\n",
       "  </tbody>\n",
       "</table>\n",
       "</div>"
      ],
      "text/plain": [
       "  Restaurant Name  Dining Rating  Delivery Rating  Dining Votes  \\\n",
       "0      Doner King            3.9              4.2            39   \n",
       "1      Doner King            3.9              4.2            39   \n",
       "2      Doner King            3.9              4.2            39   \n",
       "3      Doner King            3.9              4.2            39   \n",
       "4      Doner King            3.9              4.2            39   \n",
       "\n",
       "   Delivery Votes   Cuisine  Place Name        City                 Item Name  \\\n",
       "0               0  Fast Food   Malakpet   Hyderabad       Platter Kebab Combo   \n",
       "1               0  Fast Food   Malakpet   Hyderabad   Chicken Rumali Shawarma   \n",
       "2               0  Fast Food   Malakpet   Hyderabad    Chicken Tandoori Salad   \n",
       "3               0  Fast Food   Malakpet   Hyderabad         Chicken BBQ Salad   \n",
       "4               0  Fast Food   Malakpet   Hyderabad  Special Doner Wrap Combo   \n",
       "\n",
       "  Best Seller  Votes  Prices  \n",
       "0  BESTSELLER     84   249.0  \n",
       "1  BESTSELLER     45   129.0  \n",
       "2         NaN     39   189.0  \n",
       "3  BESTSELLER     43   189.0  \n",
       "4    MUST TRY     31   205.0  "
      ]
     },
     "execution_count": 20,
     "metadata": {},
     "output_type": "execute_result"
    }
   ],
   "source": [
    "df.head()"
   ]
  },
  {
   "cell_type": "code",
   "execution_count": 21,
   "metadata": {},
   "outputs": [
    {
     "data": {
      "text/plain": [
       "48"
      ]
     },
     "execution_count": 21,
     "metadata": {},
     "output_type": "execute_result"
    }
   ],
   "source": [
    "df['Cuisine '].nunique()"
   ]
  },
  {
   "cell_type": "markdown",
   "metadata": {},
   "source": [
    "5) Which restaurant has the highest average dining rating in each city"
   ]
  },
  {
   "cell_type": "code",
   "execution_count": 22,
   "metadata": {},
   "outputs": [],
   "source": [
    "Resturant_dining_rating = df.groupby(['City','Restaurant Name'])['Dining Rating'].mean().sort_values(ascending=False).reset_index()"
   ]
  },
  {
   "cell_type": "code",
   "execution_count": 23,
   "metadata": {},
   "outputs": [
    {
     "name": "stdout",
     "output_type": "stream",
     "text": [
      "           City            Restaurant Name  Dining Rating\n",
      "0     New Delhi          Natural Ice Cream            4.8\n",
      "1       Chennai  AB's - Absolute Barbecues            4.7\n",
      "2       Chennai                    Toscano            4.7\n",
      "3        Jaipur             Thali and More            4.7\n",
      "4     Bangalore                  Brik Oven            4.6\n",
      "..          ...                        ...            ...\n",
      "902       Kochi     UBQ by Barbeque Nation            0.0\n",
      "903       Kochi        Tellicherry Kitchen            0.0\n",
      "904       Kochi                  Tea Shack            0.0\n",
      "905   Bangalore              Sandwich Guru            0.0\n",
      "906      Ulsoor          Dum Safar Biryani            0.0\n",
      "\n",
      "[907 rows x 3 columns]\n"
     ]
    }
   ],
   "source": [
    "print(Resturant_dining_rating)"
   ]
  },
  {
   "cell_type": "code",
   "execution_count": 24,
   "metadata": {},
   "outputs": [
    {
     "name": "stderr",
     "output_type": "stream",
     "text": [
      "C:\\Users\\Ankit Pandey\\AppData\\Local\\Temp\\ipykernel_21628\\1213972911.py:2: FutureWarning: \n",
      "\n",
      "Passing `palette` without assigning `hue` is deprecated and will be removed in v0.14.0. Assign the `y` variable to `hue` and set `legend=False` for the same effect.\n",
      "\n",
      "  sns.barplot(x='Dining Rating',y='City',data=Resturant_dining_rating,palette='magma',errorbar=None)\n"
     ]
    },
    {
     "data": {
      "text/plain": [
       "Text(0.5, 1.0, 'Dining Ratings for Restaurants by City')"
      ]
     },
     "execution_count": 24,
     "metadata": {},
     "output_type": "execute_result"
    },
    {
     "data": {
      "image/png": "[encoded data removed]",
      "text/plain": [
       "<Figure size 1500x700 with 1 Axes>"
      ]
     },
     "metadata": {},
     "output_type": "display_data"
    }
   ],
   "source": [
    "plt.figure(figsize=(15,7))\n",
    "sns.barplot(x='Dining Rating',y='City',data=Resturant_dining_rating,palette='magma',errorbar=None)\n",
    "plt.title('Dining Ratings for Restaurants by City')"
   ]
  },
  {
   "cell_type": "markdown",
   "metadata": {},
   "source": [
    " What is the average price of the best-selling dishes compared to the non-best-selling dishes"
   ]
  },
  {
   "cell_type": "code",
   "execution_count": 25,
   "metadata": {},
   "outputs": [
    {
     "data": {
      "text/plain": [
       "95715"
      ]
     },
     "execution_count": 25,
     "metadata": {},
     "output_type": "execute_result"
    }
   ],
   "source": [
    "df['Best Seller'].isnull().sum()"
   ]
  },
  {
   "cell_type": "code",
   "execution_count": 26,
   "metadata": {},
   "outputs": [
    {
     "data": {
      "text/plain": [
       "array(['BESTSELLER', nan, 'MUST TRY', \"CHEF'S SPECIAL\", 'SEASONAL',\n",
       "       'Not eligible for coupons', 'VEGAN', 'Not on Pro', 'SPICY', 'NEW',\n",
       "       'GLUTEN FREE', 'DAIRY FREE', 'FODMAP FRIENDLY',\n",
       "       'Eggless available'], dtype=object)"
      ]
     },
     "execution_count": 26,
     "metadata": {},
     "output_type": "execute_result"
    }
   ],
   "source": [
    "df['Best Seller'].unique()"
   ]
  },
  {
   "cell_type": "code",
   "execution_count": 27,
   "metadata": {},
   "outputs": [],
   "source": [
    "# Fill missing values in 'Best Seller' with 'No'\n",
    "\n",
    "df['Best Seller'] = df['Best Seller'].fillna('No')"
   ]
  },
  {
   "cell_type": "code",
   "execution_count": 28,
   "metadata": {},
   "outputs": [],
   "source": [
    "# Remove rows where 'Cuisine' is 'Beverages' and 'Best Seller' is 'No'\n",
    "\n",
    "df = df[(df['Cuisine '] != 'Beverages') & (df['Best Seller'] != 'No')] "
   ]
  },
  {
   "cell_type": "code",
   "execution_count": 29,
   "metadata": {},
   "outputs": [
    {
     "data": {
      "text/plain": [
       "Index(['Restaurant Name', 'Dining Rating', 'Delivery Rating', 'Dining Votes',\n",
       "       'Delivery Votes', 'Cuisine ', 'Place Name', 'City', 'Item Name',\n",
       "       'Best Seller', 'Votes', 'Prices'],\n",
       "      dtype='object')"
      ]
     },
     "execution_count": 29,
     "metadata": {},
     "output_type": "execute_result"
    }
   ],
   "source": [
    "df.columns"
   ]
  },
  {
   "cell_type": "code",
   "execution_count": 30,
   "metadata": {},
   "outputs": [],
   "source": [
    "Best_selling_dishes = df.groupby(['City','Cuisine '])['Prices'].mean().sort_values(ascending=False).reset_index()"
   ]
  },
  {
   "cell_type": "code",
   "execution_count": 31,
   "metadata": {},
   "outputs": [
    {
     "name": "stdout",
     "output_type": "stream",
     "text": [
      "           City     Cuisine       Prices\n",
      "0        Ulsoor     Desserts  707.875000\n",
      "1     Bangalore        Kebab  610.301887\n",
      "2        Mumbai        Kebab  586.258065\n",
      "3       Chennai        Pizza  554.480000\n",
      "4        Mumbai      Chinese  511.067961\n",
      "..          ...          ...         ...\n",
      "194   Bangalore    Ice Cream   94.880526\n",
      "195     Lucknow          Tea   90.714286\n",
      "196   Bangalore  Street Food   88.785714\n",
      "197   Bangalore        Pizza   88.625000\n",
      "198       Kochi    Ice Cream   27.500000\n",
      "\n",
      "[199 rows x 3 columns]\n"
     ]
    }
   ],
   "source": [
    "print(Best_selling_dishes)"
   ]
  }
 ],
 "metadata": {
  "kernelspec": {
   "display_name": "base",
   "language": "python",
   "name": "python3"
  },
  "language_info": {
   "codemirror_mode": {
    "name": "ipython",
    "version": 3
   },
   "file_extension": ".py",
   "mimetype": "text/x-python",
   "name": "python",
   "nbconvert_exporter": "python",
   "pygments_lexer": "ipython3",
   "version": "3.12.4"
  }
 },
 "nbformat": 4,
 "nbformat_minor": 2
}
